{
 "cells": [
  {
   "cell_type": "markdown",
   "metadata": {},
   "source": [
    "### 이미지 로데이터 파일에서 데이터 추출\n"
   ]
  },
  {
   "cell_type": "code",
   "execution_count": 9,
   "metadata": {},
   "outputs": [],
   "source": [
    "## [1] 파일 입출력 방식\n",
    "## with open() as ~\n",
    "\n",
    "file_path = \"../data/MNIST/t10k-images.idx3-ubyte\"\n"
   ]
  },
  {
   "cell_type": "code",
   "execution_count": 10,
   "metadata": {},
   "outputs": [],
   "source": [
    "# 파일 읽을 때 고려사항 => mode  = rb : 바이트 읽기 모드\n",
    "with open(file_path, \"rb\") as f:\n",
    "    all_data = f.read()\n"
   ]
  },
  {
   "cell_type": "code",
   "execution_count": 11,
   "metadata": {},
   "outputs": [
    {
     "name": "stdout",
     "output_type": "stream",
     "text": [
      "<class 'bytes'> 7840016\n",
      "b\"\\x00\\x00\\x08\\x03\\x00\\x00'\\x10\\x00\\x00\\x00\\x1c\\x00\\x00\\x00\\x1c\\x00\\x00\\x00\\x00\\x00\\x00\\x00\\x00\\x00\\x00\\x00\\x00\\x00\\x00\\x00\\x00\\x00\\x00\\x00\\x00\\x00\\x00\\x00\\x00\\x00\\x00\\x00\\x00\\x00\\x00\\x00\\x00\\x00\\x00\\x00\\x00\\x00\\x00\\x00\\x00\\x00\\x00\\x00\\x00\\x00\\x00\\x00\\x00\\x00\\x00\\x00\\x00\\x00\\x00\\x00\\x00\\x00\\x00\\x00\\x00\\x00\\x00\\x00\\x00\\x00\\x00\\x00\\x00\\x00\\x00\\x00\\x00\\x00\\x00\\x00\\x00\\x00\\x00\\x00\\x00\\x00\\x00\\x00\\x00\"\n"
     ]
    }
   ],
   "source": [
    "print(type(all_data), len(all_data))\n",
    "print(all_data[:100])\n"
   ]
  },
  {
   "cell_type": "code",
   "execution_count": 13,
   "metadata": {},
   "outputs": [
    {
     "name": "stdout",
     "output_type": "stream",
     "text": [
      "b'\\x00\\x00\\x08\\x03'\n",
      "b\"\\x00\\x00'\\x10\"\n",
      "b'\\x00\\x00\\x00\\x1c'\n",
      "b'\\x00\\x00\\x00\\x1c'\n"
     ]
    }
   ],
   "source": [
    "# 파일 읽을 때 고려사항 => mode  = rb : 바이트 읽기 모드\n",
    "with open(file_path, \"rb\") as f:\n",
    "    magic_code = f.read(4)\n",
    "    print(magic_code)\n",
    "\n",
    "    data_length = f.read(4)\n",
    "    print(data_length)\n",
    "\n",
    "    row = f.read(4)\n",
    "    print(row)\n",
    "\n",
    "    col = f.read(4)\n",
    "    print(col)\n"
   ]
  },
  {
   "cell_type": "markdown",
   "metadata": {},
   "source": [
    "-   [2] 파이썬의 byte 데이터 변환 모듈 struct 활용\n"
   ]
  },
  {
   "cell_type": "code",
   "execution_count": 38,
   "metadata": {},
   "outputs": [],
   "source": [
    "### ===> 데이터 추출 및 저장 관련 변수\n",
    "### 학습용 : train.csv\n",
    "### 테스트용 : test.csv\n",
    "### 위치 : ../data/text/\n",
    "\n",
    "save_dir = \"../data/text/\"\n",
    "data_dir = \"../data/MNIST/\"\n",
    "train_file = data_dir + \"train.csv\"\n",
    "test_file = data_dir + \"test.csv\"\n"
   ]
  },
  {
   "cell_type": "code",
   "execution_count": 39,
   "metadata": {},
   "outputs": [],
   "source": [
    "### 사용자 정의 함수 -------------------------------------------------------------\n",
    "### 기    능 : raw data 파일을 읽어서 csv파일로 저장\n",
    "### 함 수 명 : to_csv\n",
    "### 매개변수 : 파일이름, 데이터수\n",
    "### 반 환 값 : 파일 생성 여부 True/False\n",
    "### ------------------------------------------------------------------------------\n",
    "\n",
    "### ===> 모듈 로딩\n",
    "import os, struct\n",
    "\n",
    "# 디버깅용 변수\n",
    "DEBUG = False\n",
    "\n",
    "\n",
    "# CSV 변환 기능 함수\n",
    "def to_csv(name, max_data):\n",
    "    # (1) CSV 저장할 데이터 준비\n",
    "    # 레이블 파일과 이미지 파일 열기\n",
    "    lbl_f = open(data_dir + name + \"-labels.idx1-ubyte\", \"rb\")\n",
    "    img_f = open(data_dir + name + \"-images.idx3-ubyte\", \"rb\")\n",
    "\n",
    "    # CSV 파일 생성\n",
    "    csv_f = open(save_dir + name + \".csv\", \"w\", encoding=\"utf-8\")\n",
    "\n",
    "    # 헤더 정보 읽기\n",
    "    mag, lbl_count = struct.unpack(\">II\", lbl_f.read(8))  # 매직 코드 + 레이블 갯수\n",
    "    mag, img_count = struct.unpack(\">II\", img_f.read(8))  # 매직 코드 + 이미지 갯수\n",
    "    row, col = struct.unpack(\">II\", img_f.read(8))  # 행, 열 갯수\n",
    "    pixels = row * col\n",
    "\n",
    "    if DEBUG:\n",
    "        print(f\"lbl_count {lbl_count}, img_count {img_count}\")\n",
    "        print(f\"rows {row}, cols {col}\")\n",
    "\n",
    "    # (2) 이미지 데이터를 읽고 CSV로 저장\n",
    "    for idx in range(lbl_count):\n",
    "        if idx > max_data:\n",
    "            break\n",
    "\n",
    "        # 숫자이미지 데이터가 의미하는 숫자값 읽기\n",
    "        # 튜플타입 리턴 -> 1개 데이터 (value,)\n",
    "        label = struct.unpack(\"B\", lbl_f.read(1))[0]\n",
    "        if DEBUG:\n",
    "            print(f\"label {label}\")\n",
    "\n",
    "        # 이미지 데이터 읽기\n",
    "        bdata = img_f.read(pixels)\n",
    "        sdata = list(map(lambda n: str(n), bdata))\n",
    "        if DEBUG:\n",
    "            print(f\"sdata => {sdata}\")\n",
    "\n",
    "        # CSV 파일에 쓰기 => 라벨 , 데이터1, 데이터2, ..., 데이터 784\n",
    "        csv_f.write(str(label) + \",\")  # 숫자 라벨 쓰기\n",
    "        csv_f.write(\",\".join(sdata) + \"\\n\")  # 리스트 이미지 데이터 -> 문자열 변환 쓰기\n",
    "    csv_f.close()\n",
    "    lbl_f.close()\n",
    "    img_f.close()\n",
    "\n",
    "    # 생성된 파일 존재 여부 확인 후 반환\n",
    "    return os.path.exists(save_dir + f\"{name}.csv\")\n"
   ]
  },
  {
   "cell_type": "code",
   "execution_count": 40,
   "metadata": {},
   "outputs": [
    {
     "data": {
      "text/plain": [
       "True"
      ]
     },
     "execution_count": 40,
     "metadata": {},
     "output_type": "execute_result"
    }
   ],
   "source": [
    "# 학습용 데이터파일 생성\n",
    "to_csv(\"train\", 10000)\n",
    "\n",
    "# 테스트용 데이터 파일 생성\n",
    "to_csv(\"t10k\", 1000)\n"
   ]
  },
  {
   "cell_type": "markdown",
   "metadata": {},
   "source": [
    "-   [3] 이미지 데이터 로딩 후 시각화 <hr>\n"
   ]
  },
  {
   "cell_type": "markdown",
   "metadata": {},
   "source": [
    "-   [3-1] 이미지 데이터 로딩 csv => DataFrame\n"
   ]
  },
  {
   "cell_type": "code",
   "execution_count": 43,
   "metadata": {},
   "outputs": [],
   "source": [
    "import pandas as pd\n",
    "import numpy as np\n"
   ]
  },
  {
   "cell_type": "code",
   "execution_count": 50,
   "metadata": {},
   "outputs": [
    {
     "name": "stdout",
     "output_type": "stream",
     "text": [
      "<class 'pandas.core.frame.DataFrame'>\n",
      "RangeIndex: 10001 entries, 0 to 10000\n",
      "Columns: 785 entries, 0 to 784\n",
      "dtypes: int64(785)\n",
      "memory usage: 59.9 MB\n"
     ]
    }
   ],
   "source": [
    "trainDF = pd.read_csv(save_dir + \"train.csv\", header=None)\n",
    "trainDF.info()\n"
   ]
  },
  {
   "cell_type": "code",
   "execution_count": 52,
   "metadata": {},
   "outputs": [
    {
     "data": {
      "text/html": [
       "<div>\n",
       "<style scoped>\n",
       "    .dataframe tbody tr th:only-of-type {\n",
       "        vertical-align: middle;\n",
       "    }\n",
       "\n",
       "    .dataframe tbody tr th {\n",
       "        vertical-align: top;\n",
       "    }\n",
       "\n",
       "    .dataframe thead th {\n",
       "        text-align: right;\n",
       "    }\n",
       "</style>\n",
       "<table border=\"1\" class=\"dataframe\">\n",
       "  <thead>\n",
       "    <tr style=\"text-align: right;\">\n",
       "      <th></th>\n",
       "      <th>0</th>\n",
       "      <th>1</th>\n",
       "      <th>2</th>\n",
       "      <th>3</th>\n",
       "      <th>4</th>\n",
       "      <th>5</th>\n",
       "      <th>6</th>\n",
       "      <th>7</th>\n",
       "      <th>8</th>\n",
       "      <th>9</th>\n",
       "      <th>...</th>\n",
       "      <th>775</th>\n",
       "      <th>776</th>\n",
       "      <th>777</th>\n",
       "      <th>778</th>\n",
       "      <th>779</th>\n",
       "      <th>780</th>\n",
       "      <th>781</th>\n",
       "      <th>782</th>\n",
       "      <th>783</th>\n",
       "      <th>784</th>\n",
       "    </tr>\n",
       "  </thead>\n",
       "  <tbody>\n",
       "    <tr>\n",
       "      <th>0</th>\n",
       "      <td>5</td>\n",
       "      <td>0</td>\n",
       "      <td>0</td>\n",
       "      <td>0</td>\n",
       "      <td>0</td>\n",
       "      <td>0</td>\n",
       "      <td>0</td>\n",
       "      <td>0</td>\n",
       "      <td>0</td>\n",
       "      <td>0</td>\n",
       "      <td>...</td>\n",
       "      <td>0</td>\n",
       "      <td>0</td>\n",
       "      <td>0</td>\n",
       "      <td>0</td>\n",
       "      <td>0</td>\n",
       "      <td>0</td>\n",
       "      <td>0</td>\n",
       "      <td>0</td>\n",
       "      <td>0</td>\n",
       "      <td>0</td>\n",
       "    </tr>\n",
       "    <tr>\n",
       "      <th>1</th>\n",
       "      <td>0</td>\n",
       "      <td>0</td>\n",
       "      <td>0</td>\n",
       "      <td>0</td>\n",
       "      <td>0</td>\n",
       "      <td>0</td>\n",
       "      <td>0</td>\n",
       "      <td>0</td>\n",
       "      <td>0</td>\n",
       "      <td>0</td>\n",
       "      <td>...</td>\n",
       "      <td>0</td>\n",
       "      <td>0</td>\n",
       "      <td>0</td>\n",
       "      <td>0</td>\n",
       "      <td>0</td>\n",
       "      <td>0</td>\n",
       "      <td>0</td>\n",
       "      <td>0</td>\n",
       "      <td>0</td>\n",
       "      <td>0</td>\n",
       "    </tr>\n",
       "  </tbody>\n",
       "</table>\n",
       "<p>2 rows × 785 columns</p>\n",
       "</div>"
      ],
      "text/plain": [
       "   0    1    2    3    4    5    6    7    8    9    ...  775  776  777  778  \\\n",
       "0    5    0    0    0    0    0    0    0    0    0  ...    0    0    0    0   \n",
       "1    0    0    0    0    0    0    0    0    0    0  ...    0    0    0    0   \n",
       "\n",
       "   779  780  781  782  783  784  \n",
       "0    0    0    0    0    0    0  \n",
       "1    0    0    0    0    0    0  \n",
       "\n",
       "[2 rows x 785 columns]"
      ]
     },
     "execution_count": 52,
     "metadata": {},
     "output_type": "execute_result"
    }
   ],
   "source": [
    "trainDF.head(2)\n"
   ]
  },
  {
   "cell_type": "code",
   "execution_count": 51,
   "metadata": {},
   "outputs": [
    {
     "data": {
      "text/plain": [
       "((10001,),\n",
       " (10001, 784),\n",
       "    1    2    3    4    5    6    7    8    9    10   ...  775  776  777  778  \\\n",
       " 0    0    0    0    0    0    0    0    0    0    0  ...    0    0    0    0   \n",
       " 1    0    0    0    0    0    0    0    0    0    0  ...    0    0    0    0   \n",
       " 2    0    0    0    0    0    0    0    0    0    0  ...    0    0    0    0   \n",
       " \n",
       "    779  780  781  782  783  784  \n",
       " 0    0    0    0    0    0    0  \n",
       " 1    0    0    0    0    0    0  \n",
       " 2    0    0    0    0    0    0  \n",
       " \n",
       " [3 rows x 784 columns])"
      ]
     },
     "execution_count": 51,
     "metadata": {},
     "output_type": "execute_result"
    }
   ],
   "source": [
    "# 이미지 데이터와 라벨 분리\n",
    "labels = trainDF[0]\n",
    "img_data = trainDF.drop(0, axis=1)\n",
    "\n",
    "labels.shape, img_data.shape, img_data[:3]\n"
   ]
  },
  {
   "cell_type": "markdown",
   "metadata": {},
   "source": [
    "-   [3-2] 데이터 시각화\n"
   ]
  },
  {
   "cell_type": "code",
   "execution_count": 53,
   "metadata": {},
   "outputs": [],
   "source": [
    "import matplotlib.pyplot as plt\n"
   ]
  },
  {
   "cell_type": "code",
   "execution_count": 57,
   "metadata": {},
   "outputs": [
    {
     "data": {
      "text/plain": [
       "(numpy.ndarray, (784,), 1)"
      ]
     },
     "execution_count": 57,
     "metadata": {},
     "output_type": "execute_result"
    }
   ],
   "source": [
    "# 1D 이미지 데이터 => 2D 이미지 데이터 변환\n",
    "raw_img = img_data.iloc[0].values\n",
    "\n",
    "type(raw_img), raw_img.shape, raw_img.ndim\n"
   ]
  },
  {
   "cell_type": "code",
   "execution_count": 61,
   "metadata": {},
   "outputs": [
    {
     "data": {
      "text/plain": [
       "(numpy.ndarray, (28, 28), 2)"
      ]
     },
     "execution_count": 61,
     "metadata": {},
     "output_type": "execute_result"
    }
   ],
   "source": [
    "# (784,1) ====> (28,28)\n",
    "raw_img = raw_img.reshape(-1, 28)\n",
    "\n",
    "type(raw_img), raw_img.shape, raw_img.ndim\n"
   ]
  },
  {
   "cell_type": "code",
   "execution_count": 72,
   "metadata": {},
   "outputs": [
    {
     "data": {
      "image/png": "[encoded data removed]",
      "text/plain": [
       "<Figure size 640x480 with 1 Axes>"
      ]
     },
     "metadata": {},
     "output_type": "display_data"
    }
   ],
   "source": [
    "# 시각화\n",
    "plt.imshow(raw_img, cmap=\"gray\")\n",
    "plt.title(f\"[ IMAGE LABEL {labels[0]} ]\")\n",
    "plt.axis(\"off\")\n",
    "plt.show()\n"
   ]
  },
  {
   "cell_type": "code",
   "execution_count": null,
   "metadata": {},
   "outputs": [],
   "source": []
  }
 ],
 "metadata": {
  "kernelspec": {
   "display_name": "Torch_PY38",
   "language": "python",
   "name": "python3"
  },
  "language_info": {
   "codemirror_mode": {
    "name": "ipython",
    "version": 3
   },
   "file_extension": ".py",
   "mimetype": "text/x-python",
   "name": "python",
   "nbconvert_exporter": "python",
   "pygments_lexer": "ipython3",
   "version": "3.8.18"
  }
 },
 "nbformat": 4,
 "nbformat_minor": 2
}
