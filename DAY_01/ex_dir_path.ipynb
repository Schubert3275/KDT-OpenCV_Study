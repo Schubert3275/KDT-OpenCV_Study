{
 "cells": [
  {
   "cell_type": "markdown",
   "metadata": {},
   "source": [
    "## 폴더 및 파일 다루기\n"
   ]
  },
  {
   "cell_type": "code",
   "execution_count": 1,
   "metadata": {},
   "outputs": [],
   "source": [
    "### 모듈 로딩\n",
    "import os\n"
   ]
  },
  {
   "cell_type": "code",
   "execution_count": 2,
   "metadata": {},
   "outputs": [
    {
     "data": {
      "text/plain": [
       "True"
      ]
     },
     "execution_count": 2,
     "metadata": {},
     "output_type": "execute_result"
    }
   ],
   "source": [
    "### 특정 폴더 내의 모든 데이터 리스트 가져오기\n",
    "my_folder = \"../data/\"\n",
    "\n",
    "# 해당 폴더 또는 파일이 존재하는지 검사 ==> 결과 : True, False\n",
    "os.path.exists(my_folder)\n"
   ]
  },
  {
   "cell_type": "code",
   "execution_count": 7,
   "metadata": {},
   "outputs": [
    {
     "name": "stdout",
     "output_type": "stream",
     "text": [
      "best_model.pth --- False\n",
      "DysonSphere.jpg --- False\n",
      "img --- True\n",
      "iris.csv --- False\n",
      "MNIST --- True\n",
      "text --- True\n"
     ]
    }
   ],
   "source": [
    "# 폴더 내 모든 파일, 폴더 리스트 반환\n",
    "datalist = os.listdir(my_folder)\n",
    "\n",
    "for data_name in datalist:\n",
    "    # 폴더 여부 체크 => os.path.isdir(경로)\n",
    "    print(data_name, os.path.isdir(my_folder + data_name), sep=\" --- \")\n"
   ]
  },
  {
   "cell_type": "code",
   "execution_count": 28,
   "metadata": {},
   "outputs": [
    {
     "name": "stdout",
     "output_type": "stream",
     "text": [
      "best_model\n",
      "DysonSphere\n",
      "[img]\n",
      " └ DysonSphere.jpg\n",
      "iris\n",
      "[MNIST]\n",
      " ├ t10k-images-idx3-ubyte.gz\n",
      " ├ t10k-images.idx3-ubyte\n",
      " ├ t10k-labels-idx1-ubyte.gz\n",
      " ├ t10k-labels.idx1-ubyte\n",
      " ├ train-images-idx3-ubyte.gz\n",
      " ├ train-images.idx3-ubyte\n",
      " ├ train-labels-idx1-ubyte.gz\n",
      " └ train-labels.idx1-ubyte\n",
      "[text]\n",
      " ├ t10k.csv\n",
      " └ train.csv\n"
     ]
    }
   ],
   "source": [
    "# data 폴더 아래에 파일은 파일명만 출력, 폴더라면 폴더 아래 데이터 리스트 출력\n",
    "for data_name in datalist:\n",
    "    if os.path.isdir(my_folder + data_name):\n",
    "        print(f\"[{data_name}]\")\n",
    "        sublist = os.listdir(my_folder + data_name)\n",
    "        for data in sublist:\n",
    "            print(\" ├\" if data != sublist[-1] else \" └\", data)\n",
    "    else:\n",
    "        print(os.path.splitext(data_name)[0])\n"
   ]
  },
  {
   "cell_type": "code",
   "execution_count": 31,
   "metadata": {},
   "outputs": [
    {
     "name": "stdout",
     "output_type": "stream",
     "text": [
      "DysonSphere.jpg\n",
      "DysonSphere.jpg\n"
     ]
    }
   ],
   "source": [
    "## 원하는 데이터 파일 즉 확장자를 지정해서 해당 파일만 가져오기\n",
    "for data_name in datalist:\n",
    "    if os.path.isdir(my_folder + data_name):\n",
    "        sublist = os.listdir(my_folder + data_name)\n",
    "        for data in sublist:\n",
    "            if os.path.splitext(data)[-1] == \".jpg\":\n",
    "                print(data)\n",
    "    else:\n",
    "        if os.path.splitext(data_name)[-1] == \".jpg\":\n",
    "            print(data_name)\n"
   ]
  },
  {
   "cell_type": "code",
   "execution_count": 55,
   "metadata": {},
   "outputs": [],
   "source": [
    "def find_files(path, extension, include_path=False):\n",
    "    if not extension.startswith(\".\"):\n",
    "        extension = \".\" + extension\n",
    "    for file in os.listdir(path):\n",
    "        if os.path.isdir(path + file):\n",
    "            find_files(path + file + \"/\", extension, include_path)\n",
    "        else:\n",
    "            if os.path.splitext(file)[-1] == extension:\n",
    "                print(path + file if include_path else file)\n"
   ]
  },
  {
   "cell_type": "code",
   "execution_count": 56,
   "metadata": {},
   "outputs": [
    {
     "name": "stdout",
     "output_type": "stream",
     "text": [
      "DysonSphere.jpg\n",
      "DysonSphere.jpg\n"
     ]
    }
   ],
   "source": [
    "find_files(my_folder, \".jpg\")\n"
   ]
  },
  {
   "cell_type": "code",
   "execution_count": 57,
   "metadata": {},
   "outputs": [
    {
     "name": "stdout",
     "output_type": "stream",
     "text": [
      "../data/iris.csv\n",
      "../data/text/t10k.csv\n",
      "../data/text/train.csv\n"
     ]
    }
   ],
   "source": [
    "find_files(my_folder, \"csv\", include_path=True)\n"
   ]
  },
  {
   "cell_type": "code",
   "execution_count": 62,
   "metadata": {},
   "outputs": [
    {
     "data": {
      "text/plain": [
       "'4.9.0'"
      ]
     },
     "execution_count": 62,
     "metadata": {},
     "output_type": "execute_result"
    }
   ],
   "source": [
    "import cv2\n",
    "\n",
    "cv2.__version__\n"
   ]
  },
  {
   "cell_type": "code",
   "execution_count": null,
   "metadata": {},
   "outputs": [],
   "source": []
  }
 ],
 "metadata": {
  "kernelspec": {
   "display_name": "Torch_PY38",
   "language": "python",
   "name": "python3"
  },
  "language_info": {
   "codemirror_mode": {
    "name": "ipython",
    "version": 3
   },
   "file_extension": ".py",
   "mimetype": "text/x-python",
   "name": "python",
   "nbconvert_exporter": "python",
   "pygments_lexer": "ipython3",
   "version": "3.8.18"
  }
 },
 "nbformat": 4,
 "nbformat_minor": 2
}
