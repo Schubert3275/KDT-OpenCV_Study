{
 "cells": [
  {
   "cell_type": "code",
   "execution_count": 1,
   "metadata": {},
   "outputs": [],
   "source": [
    "## 모듈 로딩\n",
    "import numpy as np\n"
   ]
  },
  {
   "cell_type": "code",
   "execution_count": 2,
   "metadata": {},
   "outputs": [
    {
     "data": {
      "text/plain": [
       "array([0., 0.])"
      ]
     },
     "execution_count": 2,
     "metadata": {},
     "output_type": "execute_result"
    }
   ],
   "source": [
    "## ndarray 타입 데이터 생성\n",
    "\n",
    "# 0으로 채워진 ndarray 객체 생성 ==> zeros()\n",
    "np.zeros(2)\n"
   ]
  },
  {
   "cell_type": "code",
   "execution_count": 3,
   "metadata": {},
   "outputs": [
    {
     "data": {
      "text/plain": [
       "array([[0, 0, 0],\n",
       "       [0, 0, 0]], dtype=int8)"
      ]
     },
     "execution_count": 3,
     "metadata": {},
     "output_type": "execute_result"
    }
   ],
   "source": [
    "np.zeros((2, 3), dtype=np.int8)\n"
   ]
  },
  {
   "cell_type": "code",
   "execution_count": 9,
   "metadata": {},
   "outputs": [
    {
     "data": {
      "text/plain": [
       "(array([1., 1., 1., 1., 1., 1., 1., 1., 1., 1.]),\n",
       " array([1, 1, 1, 1, 1, 1, 1, 1, 1, 1]),\n",
       " array([[ True,  True,  True,  True,  True],\n",
       "        [ True,  True,  True,  True,  True]]))"
      ]
     },
     "execution_count": 9,
     "metadata": {},
     "output_type": "execute_result"
    }
   ],
   "source": [
    "# 1로 채워진 ndarray 객체 생성 ==> ones()\n",
    "np.ones(10), np.ones(10, dtype=np.int32), np.ones((2, 5), dtype=np.bool_)\n"
   ]
  },
  {
   "cell_type": "code",
   "execution_count": 10,
   "metadata": {},
   "outputs": [
    {
     "data": {
      "text/plain": [
       "array([[4, 4, 3, 3, 1, 2, 3, 4, 4, 3],\n",
       "       [3, 4, 1, 3, 1, 3, 4, 2, 1, 1],\n",
       "       [4, 1, 4, 3, 4, 1, 4, 1, 4, 4]])"
      ]
     },
     "execution_count": 10,
     "metadata": {},
     "output_type": "execute_result"
    }
   ],
   "source": [
    "# 랜덤 데이터로 ndarray 객체 생성 ==> random\n",
    "np.random.randint(1, 5, (3, 10))\n"
   ]
  },
  {
   "cell_type": "code",
   "execution_count": 16,
   "metadata": {},
   "outputs": [
    {
     "data": {
      "text/plain": [
       "(array([[0.77234733, 0.16231951],\n",
       "        [0.9215816 , 0.03601476],\n",
       "        [0.02202768, 0.01882965],\n",
       "        [0.09720523, 0.80655219],\n",
       "        [0.81280513, 0.34354338]]),\n",
       " array([0.82895719, 0.01358993, 0.76484576]))"
      ]
     },
     "execution_count": 16,
     "metadata": {},
     "output_type": "execute_result"
    }
   ],
   "source": [
    "# 0 <= 범위 < 1\n",
    "np.random.rand(5, 2), np.random.rand(3)\n"
   ]
  },
  {
   "cell_type": "code",
   "execution_count": 19,
   "metadata": {},
   "outputs": [
    {
     "data": {
      "text/plain": [
       "(array([ 0.12594384, -0.32738094,  1.30792077, -0.95055733,  0.26373475]),\n",
       " array([[[-1.42770012,  0.38753056,  1.40289179],\n",
       "         [-1.0078411 , -0.18539112, -0.2463388 ]]]))"
      ]
     },
     "execution_count": 19,
     "metadata": {},
     "output_type": "execute_result"
    }
   ],
   "source": [
    "np.random.randn(5), np.random.randn(1, 2, 3)\n"
   ]
  },
  {
   "cell_type": "code",
   "execution_count": 26,
   "metadata": {},
   "outputs": [
    {
     "data": {
      "text/plain": [
       "array([ 0.05056171,  0.49995133, -0.99590893,  0.69359851, -0.41830152])"
      ]
     },
     "execution_count": 26,
     "metadata": {},
     "output_type": "execute_result"
    }
   ],
   "source": [
    "# 랜덤 고정\n",
    "np.random.seed(4)\n",
    "\n",
    "np.random.randn(5)\n"
   ]
  },
  {
   "cell_type": "code",
   "execution_count": 27,
   "metadata": {},
   "outputs": [
    {
     "name": "stdout",
     "output_type": "stream",
     "text": [
      "[-1.58457724 -0.64770677  0.59857517  0.33225003 -1.14747663  0.61866969\n",
      " -0.08798693  0.4250724   0.33225315 -1.15681626]\n",
      "[-1.14747663  0.33225315 -1.58457724  0.61866969 -0.08798693 -0.64770677\n",
      " -1.15681626  0.4250724   0.33225003  0.59857517]\n"
     ]
    }
   ],
   "source": [
    "data = np.random.randn(10)\n",
    "print(data)\n",
    "\n",
    "np.random.shuffle(data)\n",
    "print(data)\n"
   ]
  },
  {
   "cell_type": "code",
   "execution_count": 28,
   "metadata": {},
   "outputs": [
    {
     "data": {
      "text/plain": [
       "(-2.317743386975293, 0.6186696890268814, -1.5845772351121241)"
      ]
     },
     "execution_count": 28,
     "metadata": {},
     "output_type": "execute_result"
    }
   ],
   "source": [
    "data.sum(), data.max(), data.min()\n"
   ]
  },
  {
   "cell_type": "code",
   "execution_count": 31,
   "metadata": {},
   "outputs": [
    {
     "data": {
      "text/plain": [
       "(3, 2)"
      ]
     },
     "execution_count": 31,
     "metadata": {},
     "output_type": "execute_result"
    }
   ],
   "source": [
    "data.argmax(), data.argmin()\n"
   ]
  },
  {
   "cell_type": "code",
   "execution_count": null,
   "metadata": {},
   "outputs": [],
   "source": []
  }
 ],
 "metadata": {
  "kernelspec": {
   "display_name": "Torch_PY38",
   "language": "python",
   "name": "python3"
  },
  "language_info": {
   "codemirror_mode": {
    "name": "ipython",
    "version": 3
   },
   "file_extension": ".py",
   "mimetype": "text/x-python",
   "name": "python",
   "nbconvert_exporter": "python",
   "pygments_lexer": "ipython3",
   "version": "3.8.18"
  }
 },
 "nbformat": 4,
 "nbformat_minor": 2
}
