{
 "cells": [
  {
   "cell_type": "markdown",
   "metadata": {},
   "source": [
    "## [ 기본적인 이미지 다루기 ]\n"
   ]
  },
  {
   "cell_type": "code",
   "execution_count": 2,
   "metadata": {},
   "outputs": [],
   "source": [
    "### ===> 모듈 로딩\n",
    "import cv2\n",
    "import numpy as np\n"
   ]
  },
  {
   "cell_type": "markdown",
   "metadata": {},
   "source": [
    "-   [1] 이미지 데이터 로딩 <hr>\n",
    "    -   컬러 / 회색 이미지 변환 로딩 가능함\n"
   ]
  },
  {
   "cell_type": "code",
   "execution_count": 9,
   "metadata": {},
   "outputs": [],
   "source": [
    "file = \"../data/img/cat05.jpg\"\n"
   ]
  },
  {
   "cell_type": "code",
   "execution_count": 10,
   "metadata": {},
   "outputs": [],
   "source": [
    "### => 컬러 이미지 로딩 [기본값]\n",
    "img_rgb = cv2.imread(file, cv2.IMREAD_COLOR)\n",
    "\n",
    "### => 회색 이미지 로딩 [기본값]\n",
    "img_gray = cv2.imread(file, cv2.IMREAD_GRAYSCALE)\n"
   ]
  },
  {
   "cell_type": "code",
   "execution_count": 11,
   "metadata": {},
   "outputs": [
    {
     "name": "stdout",
     "output_type": "stream",
     "text": [
      "[Color IMAGE]\n",
      "SHAPE : (185, 273, 3)    DIM : 3차원\n",
      "DTYPE : uint8    SIZE : 151515바이트\n"
     ]
    }
   ],
   "source": [
    "### 이미지 데이터 정보확인\n",
    "print(f\"[Color IMAGE]\")\n",
    "print(f\"SHAPE : {img_rgb.shape}    DIM : {img_rgb.ndim}차원\")\n",
    "print(f\"DTYPE : {img_rgb.dtype}    SIZE : {img_rgb.size}바이트\")\n"
   ]
  },
  {
   "cell_type": "code",
   "execution_count": 12,
   "metadata": {},
   "outputs": [
    {
     "name": "stdout",
     "output_type": "stream",
     "text": [
      "[Gray IMAGE]\n",
      "SHAPE : (185, 273)    DIM : 2차원\n",
      "DTYPE : uint8    SIZE : 50505바이트\n"
     ]
    }
   ],
   "source": [
    "### 이미지 데이터 정보확인\n",
    "print(f\"[Gray IMAGE]\")\n",
    "print(f\"SHAPE : {img_gray.shape}    DIM : {img_gray.ndim}차원\")\n",
    "print(f\"DTYPE : {img_gray.dtype}    SIZE : {img_gray.size}바이트\")\n"
   ]
  },
  {
   "cell_type": "code",
   "execution_count": 19,
   "metadata": {},
   "outputs": [
    {
     "name": "stdout",
     "output_type": "stream",
     "text": [
      "key =>> 27 - 0x1b\n"
     ]
    }
   ],
   "source": [
    "if img_rgb is not None:\n",
    "    ### => 이미지 창 띄우기\n",
    "    cv2.imshow(\"[ COLOR ]\", img_rgb)\n",
    "\n",
    "    while True:\n",
    "        ### => 이미지 창 제어\n",
    "        key = cv2.waitKey()\n",
    "        print(f\"key =>> {key} - {hex(key)}\")\n",
    "        if key == 27:  # ESC\n",
    "            cv2.destroyAllWindows()\n",
    "            break\n",
    "else:\n",
    "    print(\"No image file!!!\")\n"
   ]
  },
  {
   "cell_type": "code",
   "execution_count": 18,
   "metadata": {},
   "outputs": [],
   "source": [
    "save_filename = \"../data/img/cat05_copy.jpg\"\n",
    "img_file = cv2.imwrite(save_filename, img_rgb)\n"
   ]
  },
  {
   "cell_type": "code",
   "execution_count": 37,
   "metadata": {},
   "outputs": [],
   "source": [
    "img_file = \"../data/img/cat02.jpg\"\n",
    "img_file2 = \"../data/img/DysonSphere03.jpg\"\n",
    "img = cv2.imread(img_file, cv2.IMREAD_COLOR)\n",
    "img2 = cv2.imread(img_file2, cv2.IMREAD_COLOR)\n"
   ]
  },
  {
   "cell_type": "code",
   "execution_count": null,
   "metadata": {},
   "outputs": [],
   "source": [
    "img_b, img_g, img_r = cv2.split(img)\n",
    "\n",
    "cv2.imshow(\"[Blue Channel]\", img_b)\n",
    "cv2.waitKey(1000)\n",
    "cv2.destroyWindow(\"[Blue Channel]\")\n",
    "cv2.imshow(\"[Green Channel]\", img_g)\n",
    "cv2.waitKey(1000)\n",
    "cv2.destroyWindow(\"[Green Channel]\")\n",
    "cv2.imshow(\"[Red Channel]\", img_r)\n",
    "cv2.waitKey(1000)\n",
    "cv2.destroyAllWindows()\n"
   ]
  },
  {
   "cell_type": "code",
   "execution_count": 29,
   "metadata": {},
   "outputs": [],
   "source": [
    "b, g, r = img[:, :, 0], img[:, :, 1], img[:, :, 2]\n",
    "\n",
    "cv2.imshow(\"[IMG-R]\", r)\n",
    "cv2.waitKey(1000)\n",
    "cv2.destroyAllWindows()\n",
    "cv2.imshow(\"[IMG-G]\", g)\n",
    "cv2.waitKey(1000)\n",
    "cv2.destroyAllWindows()\n",
    "cv2.imshow(\"[IMG-B]\", b)\n",
    "cv2.waitKey(1000)\n",
    "cv2.destroyAllWindows()\n"
   ]
  },
  {
   "cell_type": "code",
   "execution_count": 39,
   "metadata": {},
   "outputs": [],
   "source": [
    "img_b, img_g, img_r = cv2.split(img2)\n",
    "\n",
    "img_rgb = cv2.merge((img_r, img_g, img_b))\n",
    "\n",
    "cv2.imshow(\"[RGB IMAGE]\", img_rgb)\n",
    "\n",
    "cv2.waitKey()\n",
    "cv2.destroyAllWindows()\n"
   ]
  },
  {
   "cell_type": "code",
   "execution_count": 38,
   "metadata": {},
   "outputs": [],
   "source": [
    "src_hsv = cv2.cvtColor(img2, cv2.COLOR_BGR2HSV)\n",
    "planes = cv2.split(src_hsv)\n",
    "\n",
    "cv2.imshow(\"[HSV IMG]\", src_hsv)\n",
    "\n",
    "cv2.waitKey()\n",
    "cv2.destroyAllWindows()\n"
   ]
  },
  {
   "cell_type": "code",
   "execution_count": null,
   "metadata": {},
   "outputs": [],
   "source": []
  }
 ],
 "metadata": {
  "kernelspec": {
   "display_name": "Torch_PY38",
   "language": "python",
   "name": "python3"
  },
  "language_info": {
   "codemirror_mode": {
    "name": "ipython",
    "version": 3
   },
   "file_extension": ".py",
   "mimetype": "text/x-python",
   "name": "python",
   "nbconvert_exporter": "python",
   "pygments_lexer": "ipython3",
   "version": "3.8.18"
  }
 },
 "nbformat": 4,
 "nbformat_minor": 2
}
