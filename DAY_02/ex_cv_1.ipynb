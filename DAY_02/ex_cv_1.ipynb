{
 "cells": [
  {
   "cell_type": "markdown",
   "metadata": {},
   "source": [
    "## [ 기본적인 이미지 다루기 ]\n"
   ]
  },
  {
   "cell_type": "code",
   "execution_count": 1,
   "metadata": {},
   "outputs": [],
   "source": [
    "### ===> 모듈 로딩\n",
    "import cv2\n",
    "import numpy as np\n"
   ]
  },
  {
   "cell_type": "markdown",
   "metadata": {},
   "source": [
    "-   [1] 이미지 데이터 로딩 <hr>\n",
    "    -   컬러 / 회색 이미지 변환 로딩 가능함\n"
   ]
  },
  {
   "cell_type": "code",
   "execution_count": 2,
   "metadata": {},
   "outputs": [],
   "source": [
    "file = \"../data/img/cat05.jpg\"\n"
   ]
  },
  {
   "cell_type": "code",
   "execution_count": 3,
   "metadata": {},
   "outputs": [],
   "source": [
    "### => 컬러 이미지 로딩 [기본값]\n",
    "img_rgb = cv2.imread(file, cv2.IMREAD_COLOR)\n",
    "\n",
    "### => 회색 이미지 로딩 [기본값]\n",
    "img_gray = cv2.imread(file, cv2.IMREAD_GRAYSCALE)\n"
   ]
  },
  {
   "cell_type": "code",
   "execution_count": 4,
   "metadata": {},
   "outputs": [
    {
     "name": "stdout",
     "output_type": "stream",
     "text": [
      "[Color IMAGE]\n",
      "SHAPE : (185, 273, 3)    DIM : 3차원\n",
      "DTYPE : uint8    SIZE : 151515바이트\n"
     ]
    }
   ],
   "source": [
    "### 이미지 데이터 정보확인\n",
    "print(f\"[Color IMAGE]\")\n",
    "print(f\"SHAPE : {img_rgb.shape}    DIM : {img_rgb.ndim}차원\")\n",
    "print(f\"DTYPE : {img_rgb.dtype}    SIZE : {img_rgb.size}바이트\")\n"
   ]
  },
  {
   "cell_type": "code",
   "execution_count": 5,
   "metadata": {},
   "outputs": [
    {
     "name": "stdout",
     "output_type": "stream",
     "text": [
      "[Gray IMAGE]\n",
      "SHAPE : (185, 273)    DIM : 2차원\n",
      "DTYPE : uint8    SIZE : 50505바이트\n"
     ]
    }
   ],
   "source": [
    "### 이미지 데이터 정보확인\n",
    "print(f\"[Gray IMAGE]\")\n",
    "print(f\"SHAPE : {img_gray.shape}    DIM : {img_gray.ndim}차원\")\n",
    "print(f\"DTYPE : {img_gray.dtype}    SIZE : {img_gray.size}바이트\")\n"
   ]
  },
  {
   "cell_type": "code",
   "execution_count": 6,
   "metadata": {},
   "outputs": [
    {
     "name": "stdout",
     "output_type": "stream",
     "text": [
      "key =>> 13 - 0xd\n",
      "key =>> 27 - 0x1b\n"
     ]
    }
   ],
   "source": [
    "if img_rgb is not None:\n",
    "    ### => 이미지 창 띄우기\n",
    "    cv2.imshow(\"[ COLOR ]\", img_rgb)\n",
    "\n",
    "    while True:\n",
    "        ### => 이미지 창 제어\n",
    "        key = cv2.waitKey()\n",
    "        print(f\"key =>> {key} - {hex(key)}\")\n",
    "        if key == 27:  # ESC\n",
    "            cv2.destroyAllWindows()\n",
    "            break\n",
    "else:\n",
    "    print(\"No image file!!!\")\n"
   ]
  },
  {
   "cell_type": "code",
   "execution_count": 7,
   "metadata": {},
   "outputs": [],
   "source": [
    "save_filename = \"../data/img/cat05_copy.jpg\"\n",
    "img_file = cv2.imwrite(save_filename, img_rgb)\n"
   ]
  },
  {
   "cell_type": "code",
   "execution_count": 8,
   "metadata": {},
   "outputs": [],
   "source": [
    "img_file = \"../data/img/cat02.jpg\"\n",
    "img_file2 = \"../data/img/DysonSphere03.jpg\"\n",
    "img = cv2.imread(img_file, cv2.IMREAD_COLOR)\n",
    "img2 = cv2.imread(img_file2, cv2.IMREAD_COLOR)\n"
   ]
  },
  {
   "cell_type": "code",
   "execution_count": 9,
   "metadata": {},
   "outputs": [],
   "source": [
    "img_b, img_g, img_r = cv2.split(img)\n",
    "\n",
    "cv2.imshow(\"[Blue Channel]\", img_b)\n",
    "cv2.waitKey(1000)\n",
    "cv2.destroyWindow(\"[Blue Channel]\")\n",
    "cv2.imshow(\"[Green Channel]\", img_g)\n",
    "cv2.waitKey(1000)\n",
    "cv2.destroyWindow(\"[Green Channel]\")\n",
    "cv2.imshow(\"[Red Channel]\", img_r)\n",
    "cv2.waitKey(1000)\n",
    "cv2.destroyAllWindows()\n"
   ]
  },
  {
   "cell_type": "code",
   "execution_count": 10,
   "metadata": {},
   "outputs": [],
   "source": [
    "b, g, r = img[:, :, 0], img[:, :, 1], img[:, :, 2]\n",
    "\n",
    "cv2.imshow(\"[IMG-R]\", r)\n",
    "cv2.waitKey(1000)\n",
    "cv2.destroyAllWindows()\n",
    "cv2.imshow(\"[IMG-G]\", g)\n",
    "cv2.waitKey(1000)\n",
    "cv2.destroyAllWindows()\n",
    "cv2.imshow(\"[IMG-B]\", b)\n",
    "cv2.waitKey(1000)\n",
    "cv2.destroyAllWindows()\n"
   ]
  },
  {
   "cell_type": "code",
   "execution_count": 11,
   "metadata": {},
   "outputs": [],
   "source": [
    "img_b, img_g, img_r = cv2.split(img2)\n",
    "\n",
    "img_rgb = cv2.merge((img_r, img_g, img_b))\n",
    "\n",
    "cv2.imshow(\"[RGB IMAGE]\", img_rgb)\n",
    "\n",
    "cv2.waitKey()\n",
    "cv2.destroyAllWindows()\n"
   ]
  },
  {
   "cell_type": "code",
   "execution_count": 12,
   "metadata": {},
   "outputs": [],
   "source": [
    "src_hsv = cv2.cvtColor(img2, cv2.COLOR_BGR2HSV)\n",
    "planes = cv2.split(src_hsv)\n",
    "\n",
    "cv2.imshow(\"[HSV IMG]\", src_hsv)\n",
    "\n",
    "cv2.waitKey()\n",
    "cv2.destroyAllWindows()\n"
   ]
  },
  {
   "cell_type": "code",
   "execution_count": 13,
   "metadata": {},
   "outputs": [],
   "source": [
    "down_img = cv2.resize(img, dsize=(180, 150), interpolation=cv2.INTER_AREA)\n",
    "up_img = cv2.resize(img2, dsize=(0, 0), fx=1.2, fy=1.2, interpolation=cv2.INTER_CUBIC)\n",
    "\n",
    "cv2.imshow(\"down_img\", down_img)\n",
    "cv2.imshow(\"up_img\", up_img)\n",
    "\n",
    "if (\n",
    "    cv2.waitKey()\n",
    "    or cv2.getWindowProperty(\"up_img\", cv2.WND_PROP_VISIBLE) < 1\n",
    "    or cv2.getWindowProperty(\"down_img\", cv2.WND_PROP_VISIBLE) < 1\n",
    "):\n",
    "    cv2.destroyAllWindows()\n"
   ]
  },
  {
   "cell_type": "code",
   "execution_count": 36,
   "metadata": {},
   "outputs": [
    {
     "data": {
      "text/plain": [
       "((300, 300, 3), 3)"
      ]
     },
     "execution_count": 36,
     "metadata": {},
     "output_type": "execute_result"
    }
   ],
   "source": [
    "### 도화지 만들기\n",
    "img = np.zeros((300, 300), dtype=np.uint8)\n",
    "img = cv2.cvtColor(img, cv2.COLOR_GRAY2BGR)\n",
    "img_w = np.full((300, 300), 255, dtype=np.uint8)\n",
    "img_w = cv2.cvtColor(img_w, cv2.COLOR_GRAY2BGR)\n",
    "img.shape, img.ndim\n"
   ]
  },
  {
   "cell_type": "code",
   "execution_count": 38,
   "metadata": {},
   "outputs": [
    {
     "name": "stdout",
     "output_type": "stream",
     "text": [
      "(300, 300, 3)\n"
     ]
    }
   ],
   "source": [
    "### 이미지 데이터에 그림 그리기\n",
    "cv2.line(img, (0, 0), (70, 70), (255, 255, 0))\n",
    "cv2.line(img, (20, 100), (250, 20), (255, 255, 255), 20, cv2.LINE_AA)\n",
    "\n",
    "print(img.shape)\n"
   ]
  },
  {
   "cell_type": "code",
   "execution_count": 40,
   "metadata": {},
   "outputs": [],
   "source": [
    "cv2.imshow(\"BLACK\", img)\n",
    "cv2.imshow(\"WHITE\", img_w)\n",
    "cv2.waitKey(5000)\n",
    "cv2.destroyAllWindows()\n"
   ]
  },
  {
   "cell_type": "code",
   "execution_count": 41,
   "metadata": {},
   "outputs": [
    {
     "data": {
      "text/plain": [
       "True"
      ]
     },
     "execution_count": 41,
     "metadata": {},
     "output_type": "execute_result"
    }
   ],
   "source": [
    "img = np.full((500, 500, 3), 255, dtype=np.uint8)\n",
    "cv2.imwrite(\"../data/img/blank_500.jpg\", img)\n"
   ]
  },
  {
   "cell_type": "code",
   "execution_count": 59,
   "metadata": {},
   "outputs": [],
   "source": [
    "img = cv2.imread(\"../data/img/blank_500.jpg\")\n",
    "\n",
    "cv2.line(img, (50, 50), (150, 50), (255, 0, 0))\n",
    "cv2.line(img, (200, 50), (300, 50), (0, 255, 0))\n",
    "cv2.line(img, (350, 50), (450, 50), (0, 0, 255))\n",
    "\n",
    "cv2.line(img, (100, 100), (400, 100), (255, 255, 0), 10)\n",
    "cv2.line(img, (100, 150), (400, 150), (255, 0, 255), 10)\n",
    "cv2.line(img, (100, 200), (400, 200), (0, 255, 255), 10)\n",
    "cv2.line(img, (100, 250), (400, 250), (200, 200, 200), 10)\n",
    "cv2.line(img, (100, 300), (400, 300), (0, 0, 0), 10)\n",
    "\n",
    "cv2.line(img, (100, 350), (400, 400), (0, 0, 255), 20, cv2.LINE_4)\n",
    "cv2.line(img, (100, 400), (400, 450), (0, 0, 255), 20, cv2.LINE_8)\n",
    "cv2.line(img, (100, 450), (400, 500), (0, 0, 255), 20, cv2.LINE_AA)\n",
    "cv2.line(img, (0, 0), (500, 500), (0, 0, 255))\n",
    "\n",
    "cv2.imshow(\"lines\", img)\n",
    "cv2.waitKey(10000)\n",
    "cv2.destroyAllWindows()\n"
   ]
  },
  {
   "cell_type": "code",
   "execution_count": 60,
   "metadata": {},
   "outputs": [],
   "source": [
    "img = cv2.imread(\"../data/img/blank_500.jpg\")\n",
    "\n",
    "cv2.rectangle(img, (50, 50), (150, 150), (255, 0, 0))\n",
    "cv2.rectangle(img, (300, 300), (100, 100), (0, 255, 0), 10)\n",
    "cv2.rectangle(img, (450, 200), (200, 450), (0, 0, 255), -1)\n",
    "\n",
    "cv2.imshow(\"rectangle\", img)\n",
    "cv2.waitKey(10000)\n",
    "cv2.destroyAllWindows()\n"
   ]
  },
  {
   "cell_type": "code",
   "execution_count": 61,
   "metadata": {},
   "outputs": [],
   "source": [
    "img = cv2.imread(\"../data/img/blank_500.jpg\")\n",
    "\n",
    "pts1 = np.array([[50, 50], [150, 150], [100, 140], [200, 240]], dtype=np.int32)\n",
    "pts2 = np.array([[350, 50], [250, 200], [450, 200]], dtype=np.int32)\n",
    "pts3 = np.array([[150, 300], [50, 450], [250, 450]], dtype=np.int32)\n",
    "pts4 = np.array(\n",
    "    [[350, 250], [450, 350], [400, 450], [300, 450], [250, 350]], dtype=np.int32\n",
    ")\n",
    "\n",
    "cv2.polylines(img, [pts1], False, (255, 0, 0))\n",
    "cv2.polylines(img, [pts2], False, (0, 0, 0), 10)\n",
    "cv2.polylines(img, [pts3], True, (0, 0, 255), 10)\n",
    "cv2.polylines(img, [pts4], True, (0, 0, 0))\n",
    "\n",
    "cv2.imshow(\"polyline\", img)\n",
    "cv2.waitKey(10000)\n",
    "cv2.destroyAllWindows()\n"
   ]
  },
  {
   "cell_type": "code",
   "execution_count": 58,
   "metadata": {},
   "outputs": [],
   "source": [
    "img = cv2.imread(\"../data/img/blank_500.jpg\")\n",
    "\n",
    "cv2.circle(img, (150, 150), 100, (255, 0, 0))\n",
    "cv2.circle(img, (300, 150), 70, (0, 255, 0), 5)\n",
    "cv2.circle(img, (400, 150), 50, (0, 0, 255), -1)\n",
    "\n",
    "cv2.ellipse(img, (50, 300), (50, 50), 0, 0, 360, (0, 0, 255))\n",
    "cv2.ellipse(img, (150, 300), (50, 50), 0, 0, 180, (255, 0, 0))\n",
    "cv2.ellipse(img, (200, 300), (50, 50), 0, 181, 360, (0, 0, 255))\n",
    "\n",
    "cv2.ellipse(img, (325, 300), (75, 50), 0, 0, 360, (0, 255, 0))\n",
    "cv2.ellipse(img, (450, 300), (50, 75), 0, 0, 360, (255, 0, 255))\n",
    "\n",
    "cv2.ellipse(img, (50, 425), (50, 75), 15, 0, 360, (0, 0, 0))\n",
    "cv2.ellipse(img, (200, 425), (50, 75), 45, 0, 360, (0, 0, 0))\n",
    "\n",
    "cv2.ellipse(img, (350, 425), (50, 75), 45, 0, 180, (0, 0, 255))\n",
    "cv2.ellipse(img, (400, 425), (50, 75), 45, 181, 360, (255, 0, 0))\n",
    "\n",
    "cv2.imshow(\"circle\", img)\n",
    "cv2.waitKey(10000)\n",
    "cv2.destroyAllWindows()\n"
   ]
  },
  {
   "cell_type": "code",
   "execution_count": 65,
   "metadata": {},
   "outputs": [],
   "source": [
    "img = cv2.imread(\"../data/img/blank_500.jpg\")\n",
    "\n",
    "cv2.putText(img, \"Plain\", (50, 30), cv2.FONT_HERSHEY_PLAIN, 1, (0, 0, 0))\n",
    "cv2.putText(img, \"Simplex\", (50, 70), cv2.FONT_HERSHEY_SIMPLEX, 1, (0, 0, 0))\n",
    "cv2.putText(img, \"Duplex\", (50, 110), cv2.FONT_HERSHEY_DUPLEX, 1, (0, 0, 0))\n",
    "cv2.putText(img, \"Simplex\", (200, 110), cv2.FONT_HERSHEY_SIMPLEX, 2, (0, 0, 250))\n",
    "\n",
    "cv2.putText(\n",
    "    img, \"Complex Small\", (50, 180), cv2.FONT_HERSHEY_COMPLEX_SMALL, 1, (0, 0, 0)\n",
    ")\n",
    "cv2.putText(img, \"Complex\", (50, 220), cv2.FONT_HERSHEY_COMPLEX, 1, (0, 0, 0))\n",
    "cv2.putText(img, \"Triplex\", (50, 260), cv2.FONT_HERSHEY_TRIPLEX, 1, (0, 0, 0))\n",
    "cv2.putText(img, \"Complex\", (200, 260), cv2.FONT_HERSHEY_TRIPLEX, 2, (0, 0, 255))\n",
    "\n",
    "cv2.putText(\n",
    "    img, \"Script Simplex\", (50, 330), cv2.FONT_HERSHEY_SCRIPT_SIMPLEX, 1, (0, 0, 0)\n",
    ")\n",
    "cv2.putText(\n",
    "    img, \"Script Complex\", (50, 370), cv2.FONT_HERSHEY_SCRIPT_COMPLEX, 1, (0, 0, 0)\n",
    ")\n",
    "\n",
    "cv2.putText(\n",
    "    img,\n",
    "    \"Plain Italic\",\n",
    "    (50, 430),\n",
    "    cv2.FONT_HERSHEY_PLAIN | cv2.FONT_ITALIC,\n",
    "    1,\n",
    "    (0, 0, 0),\n",
    ")\n",
    "cv2.putText(\n",
    "    img,\n",
    "    \"Complex Italic\",\n",
    "    (50, 470),\n",
    "    cv2.FONT_HERSHEY_COMPLEX | cv2.FONT_ITALIC,\n",
    "    1,\n",
    "    (0, 0, 0),\n",
    ")\n",
    "\n",
    "cv2.imshow(\"draw text\", img)\n",
    "cv2.waitKey(10000)\n",
    "cv2.destroyAllWindows()\n"
   ]
  },
  {
   "cell_type": "code",
   "execution_count": 78,
   "metadata": {},
   "outputs": [],
   "source": [
    "img_w3d5 = np.full(((256, 400, 3)), 255, dtype=np.uint8)\n",
    "cv2.rectangle(img_w3d5, (0, 0), (399, 255), (0, 0, 255), thickness=-1)\n",
    "cv2.circle(img_w3d5, (150, 100), 32, (255, 255, 255), thickness=-1)\n",
    "cv2.circle(img_w3d5, (250, 100), 32, (255, 255, 255), thickness=-1)\n",
    "cv2.circle(img_w3d5, (200, 180), 16, color=(255, 255, 255), thickness=2)\n",
    "cv2.circle(img_w3d5, (200, 120), 100, (255, 255, 255), thickness=2)\n",
    "\n",
    "for i in range(100):\n",
    "    cv2.imshow(str(i), img_w3d5)\n",
    "    cv2.moveWindow(str(i), np.random.randint(0, 1919), np.random.randint(0, 1079))\n",
    "cv2.waitKey()\n",
    "cv2.destroyAllWindows()\n"
   ]
  },
  {
   "cell_type": "code",
   "execution_count": 79,
   "metadata": {},
   "outputs": [],
   "source": [
    "img_w3d5 = cv2.imread(\"../data/img/KakaoTalk_20240320_172649524.png\")\n",
    "\n",
    "for i in range(100):\n",
    "    cv2.imshow(str(i), img_w3d5)\n",
    "    cv2.moveWindow(str(i), np.random.randint(0, 1919), np.random.randint(0, 1079))\n",
    "cv2.waitKey()\n",
    "cv2.destroyAllWindows()\n"
   ]
  },
  {
   "cell_type": "code",
   "execution_count": 90,
   "metadata": {},
   "outputs": [
    {
     "name": "stdout",
     "output_type": "stream",
     "text": [
      "** face_detections RESULT\n",
      "[[495 510  84  84]\n",
      " [726 602  82  82]\n",
      " [682 600  61  61]]\n"
     ]
    }
   ],
   "source": [
    "frontalface_model = \"../data/haarcascades/haarcascade_frontalface_alt2.xml\"\n",
    "img_file = \"../data/img/KakaoTalk_20240314_220343459.jpg\"\n",
    "\n",
    "face_detector = cv2.CascadeClassifier(frontalface_model)\n",
    "\n",
    "imgNP = cv2.imread(img_file)\n",
    "\n",
    "face_detections = face_detector.detectMultiScale(imgNP, scaleFactor=1.1)\n",
    "print(f\"** face_detections RESULT\\n{face_detections}\")\n",
    "\n",
    "for x, y, w, h in face_detections:\n",
    "    cv2.rectangle(imgNP, (x, y), (x + w, y + h), (0, 255, 0), 2)\n",
    "\n",
    "cv2.imshow(\"[M]\", imgNP)\n",
    "\n",
    "if cv2.waitKey() or cv2.getWindowProperty(\"image\", cv2.WND_PROP_VISIBLE) < 1:\n",
    "    cv2.destroyAllWindows()\n"
   ]
  },
  {
   "cell_type": "code",
   "execution_count": 91,
   "metadata": {},
   "outputs": [],
   "source": [
    "frontalface_model = \"../data/haarcascades/haarcascade_eye.xml\"\n",
    "face_detector = cv2.CascadeClassifier(frontalface_model)\n",
    "\n",
    "## 카메라 연결\n",
    "camera = cv2.VideoCapture(0)\n",
    "\n",
    "if not camera.isOpened():\n",
    "    while True:\n",
    "        camImg = cv2.imread(camera)\n",
    "        face_detector = cv2.CascadeClassifier(camera)\n",
    "\n",
    "        if len(face_detections):\n",
    "            for x, y, w, h in face_detections:\n",
    "                cv2.rectangle(camera, (x, y), (x + w, y + h), (0, 255, 0), 2)\n",
    "            cv2.imshow(\"[M]\", camera)\n",
    "\n",
    "            if (\n",
    "                cv2.waitKey()\n",
    "                or cv2.getWindowProperty(\"image\", cv2.WND_PROP_VISIBLE) < 1\n",
    "            ):\n",
    "                camera.release()\n",
    "                cv2.destroyAllWindows()\n"
   ]
  },
  {
   "cell_type": "code",
   "execution_count": null,
   "metadata": {},
   "outputs": [],
   "source": []
  }
 ],
 "metadata": {
  "kernelspec": {
   "display_name": "Torch_PY38",
   "language": "python",
   "name": "python3"
  },
  "language_info": {
   "codemirror_mode": {
    "name": "ipython",
    "version": 3
   },
   "file_extension": ".py",
   "mimetype": "text/x-python",
   "name": "python",
   "nbconvert_exporter": "python",
   "pygments_lexer": "ipython3",
   "version": "3.8.18"
  }
 },
 "nbformat": 4,
 "nbformat_minor": 2
}
